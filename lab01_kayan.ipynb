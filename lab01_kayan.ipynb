{
 "cells": [
  {
   "cell_type": "markdown",
   "metadata": {},
   "source": [
    "# Lab 1 Introducing Python stack\n",
    "\n",
    "\n",
    "\n",
    " 1. Download and install Anaconda on your laptop. Here is the link for downloading: http://continuum.io/downloads. (Also see https://github.com/yy/dviz-course/blob/master/w01-intro/python-setup.md).\n",
    "\n",
    " 1. Figure out what the followings are by visiting their web sites. What are the libraries for visualizing data? Browse the gallaries of these libraries.\n",
    "\n",
    "  * Jupyter Notebook: https://jupyter.org/\n",
    "  * NumPy: http://www.numpy.org/\n",
    "  * SciPy: http://www.scipy.org/\n",
    "  * matplotlib: http://matplotlib.org/\n",
    "  * seaborn: http://seaborn.pydata.org/\n",
    "  * bokeh: http://bokeh.pydata.org/en/latest/\n",
    "  * pandas: http://pandas.pydata.org/\n",
    "  * scikit-learn: http://scikit-learn.org/stable/\n",
    "  * statsmodel: http://statsmodels.sourceforge.net/\n",
    "  \n",
    " 1. Run **jupyter notebook** from terminal. What do you see? Can you create a new notebook?\n",
    "\n",
    " 1. Run the \"Hello world!\" code below in your created notebook\n",
    "\n",
    "    ```\n",
    "    print 'Hello world!'\n",
    "    ```\n",
    "\n",
    " 1. Read the following tutorials and run the code that you do not understand\n",
    "  \n",
    "  * https://docs.python.org/3.5/tutorial/introduction.html\n",
    "  * https://docs.python.org/3.5/tutorial/controlflow.html\n",
    " "
   ]
  },
  {
   "cell_type": "code",
   "execution_count": 1,
   "metadata": {},
   "outputs": [
    {
     "name": "stdout",
     "output_type": "stream",
     "text": [
      "Hello world!\n"
     ]
    }
   ],
   "source": [
    "print ('Hello world!')"
   ]
  },
  {
   "cell_type": "code",
   "execution_count": null,
   "metadata": {},
   "outputs": [],
   "source": []
  }
 ],
 "metadata": {
  "anaconda-cloud": {},
  "kernelspec": {
   "display_name": "Python 3",
   "language": "python",
   "name": "python3"
  },
  "language_info": {
   "codemirror_mode": {
    "name": "ipython",
    "version": 3
   },
   "file_extension": ".py",
   "mimetype": "text/x-python",
   "name": "python",
   "nbconvert_exporter": "python",
   "pygments_lexer": "ipython3",
   "version": "3.6.4"
  }
 },
 "nbformat": 4,
 "nbformat_minor": 1
}
