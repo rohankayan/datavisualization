{
 "cells": [
  {
   "cell_type": "markdown",
   "metadata": {
    "toc": true
   },
   "source": [
    "<h1>Table of Contents<span class=\"tocSkip\"></span></h1>\n",
    "<div class=\"toc\"><ul class=\"toc-item\"></ul></div>"
   ]
  },
  {
   "cell_type": "code",
   "execution_count": null,
   "metadata": {},
   "outputs": [],
   "source": [
    "import matplotlib.pyplot as plt\n",
    "import pandas as pd\n",
    "import seaborn as sns\n",
    "import numpy as np\n",
    "\n",
    "\n",
    "import altair as alt\n",
    "import re\n",
    "import json\n",
    "from pandas.io.json import json_normalize\n",
    "\n",
    "alt.renderers.enable('notebook')\n",
    "%matplotlib inline"
   ]
  },
  {
   "cell_type": "markdown",
   "metadata": {},
   "source": [
    "**Load the base crime data \"crimedata.csv\"**"
   ]
  },
  {
   "cell_type": "code",
   "execution_count": null,
   "metadata": {},
   "outputs": [],
   "source": [
    "\n",
    "cc = pd.read_csv('crimedata_new.csv', header=0, na_values=\"?\", encoding='latin-1')"
   ]
  },
  {
   "cell_type": "code",
   "execution_count": null,
   "metadata": {},
   "outputs": [],
   "source": [
    "cc.head()"
   ]
  },
  {
   "cell_type": "code",
   "execution_count": null,
   "metadata": {},
   "outputs": [],
   "source": [
    "cc.describe()"
   ]
  },
  {
   "cell_type": "markdown",
   "metadata": {},
   "source": [
    "**Load the numeric codes (FIPS) for each state from the \"us-state-ansi-fips.csv\" and merge it with the base crime dataframe 'cc'. FIPS state codes are retrived from https://en.wikipedia.org/wiki/Federal_Information_Processing_Standard_state_code**"
   ]
  },
  {
   "cell_type": "code",
   "execution_count": null,
   "metadata": {},
   "outputs": [],
   "source": [
    "stfips = pd.read_csv('us-state-ansi-fips.csv', header =0)\n",
    "stfips.head()"
   ]
  },
  {
   "cell_type": "code",
   "execution_count": null,
   "metadata": {},
   "outputs": [],
   "source": [
    "cc['Total Crimes'] = cc['ViolentCrimesPerPop']+cc['nonViolPerPop']"
   ]
  },
  {
   "cell_type": "code",
   "execution_count": null,
   "metadata": {},
   "outputs": [],
   "source": [
    "cc = pd.merge(cc, stfips, left_on=[\"state\"], right_on=[\"stusps\"])\n",
    "cc.head()"
   ]
  },
  {
   "cell_type": "markdown",
   "metadata": {},
   "source": [
    "**Remove the word 'city' appended to the community name**"
   ]
  },
  {
   "cell_type": "code",
   "execution_count": null,
   "metadata": {},
   "outputs": [],
   "source": [
    "cc['communityname'] = cc['communityname'].map(lambda result : re.sub(r'city','',result))\n",
    "cc.head()"
   ]
  },
  {
   "cell_type": "markdown",
   "metadata": {},
   "source": [
    "**Load Latitude and Logitude at city level from \"cities.jon\" file**"
   ]
  },
  {
   "cell_type": "code",
   "execution_count": null,
   "metadata": {},
   "outputs": [],
   "source": [
    "file = 'cities.json'\n",
    "with open(file) as city_file:\n",
    "   dict_city = json.load(city_file)\n",
    "\n",
    "cities_lat_lon = json_normalize(dict_city)\n",
    "cities_lat_lon.head()"
   ]
  },
  {
   "cell_type": "markdown",
   "metadata": {},
   "source": [
    "**Merge the city level lat and lon with the base crime dataframe cc and load it into a new dataframe \"crime_latlon_city\"**"
   ]
  },
  {
   "cell_type": "code",
   "execution_count": null,
   "metadata": {},
   "outputs": [],
   "source": [
    "crime_latlon_city = pd.merge(cc, cities_lat_lon, left_on=[\"communityname\", \"state\"], right_on=[\"city\", \"state\"])\n",
    "crime_latlon_city.head()"
   ]
  },
  {
   "cell_type": "markdown",
   "metadata": {},
   "source": [
    "**What is the highest correlation betweent the violent and non violent crime rate against each of its categories**"
   ]
  },
  {
   "cell_type": "code",
   "execution_count": null,
   "metadata": {},
   "outputs": [],
   "source": [
    "cc_viol = cc[['murdPerPop','rapesPerPop','robbbPerPop','assaultPerPop','ViolentCrimesPerPop']]\n",
    "cc_viol_corr = cc_viol.corr()\n",
    "\n",
    "cc_nonviol = cc[['burglPerPop','larcPerPop','autoTheftPerPop','arsonsPerPop','nonViolPerPop']]\n",
    "cc_nonviol_corr = cc_nonviol.corr()\n",
    "\n",
    "### correlation matrix plot\n",
    "plt.figure(figsize=(18,5))\n",
    "\n",
    "plt.subplot(1,2,1)\n",
    "plt.title(\"Correlation b/w ovreall non violent crime rate with its categories\")\n",
    "sns.heatmap(cc_nonviol_corr,annot=True,annot_kws={\"size\": 7},vmin=-1.0, vmax=1.0,cmap=\"Spectral\")\n",
    "\n",
    "plt.subplot(1,2,2)\n",
    "plt.title(\"Correlation b/w ovreall violent crime rate with its categories\")\n",
    "sns.heatmap(cc_viol_corr,annot=True,annot_kws={\"size\": 7},vmin=-1.0, vmax=1.0,cmap=\"Spectral\")"
   ]
  },
  {
   "cell_type": "markdown",
   "metadata": {},
   "source": [
    "Chart to show pairwise co-relation of the 5 highest co-related attributes with Violent Crime Per 100K population "
   ]
  },
  {
   "cell_type": "code",
   "execution_count": null,
   "metadata": {},
   "outputs": [],
   "source": [
    "cc_crimecat_removed = cc.drop(['burglPerPop', 'larcPerPop', 'autoTheftPerPop',  'arsonsPerPop', 'murdPerPop',\n",
    "                              'rapesPerPop', 'robbbPerPop', 'assaultPerPop','Total Crimes'], axis=1)\n",
    "corr_matrix = cc_crimecat_removed.corr()\n",
    "\n",
    "corr_matrix=corr_matrix.reindex(corr_matrix.nonViolPerPop.abs().sort_values(ascending=False).index)\n",
    "\n",
    "corr_matrix.nonViolPerPop[:5]"
   ]
  },
  {
   "cell_type": "code",
   "execution_count": null,
   "metadata": {},
   "outputs": [],
   "source": [
    "#Most correlating factors for non violent crimes\n",
    "\n",
    "\n",
    "# Attributes of interest with\n",
    "cols = corr_matrix.nonViolPerPop[:5].index\n",
    "\n",
    "pp = sns.pairplot(cc[cols], \n",
    "                  size=1.8, aspect=1.2,                  \n",
    "                  diag_kws=dict(shade=True), # \"diag\" adjusts/tunes the diagonal plots\n",
    "                  diag_kind=\"kde\",\n",
    "                     kind=\"reg\") # use \"kde\" for diagonal plots\n",
    "\n",
    "fig = pp.fig \n",
    "fig.subplots_adjust(top=0.93, wspace=0.3)\n",
    "fig.suptitle('Top 5 high co-related attributes for non violent crime Pairwise Plots', \n",
    "              fontsize=14, fontweight='bold')"
   ]
  },
  {
   "cell_type": "markdown",
   "metadata": {},
   "source": [
    "Results: what have you found? how do you visualize your results?\n",
    "\n",
    "-- ViolentCrimesPerPop: total number of violent crimes per 100K popuation (numeric - decimal) GOAL attribute (to be predicted) \n",
    " -- PctFam2Par: percentage of families (with kids) that are headed by two parents (numeric - decimal) \n",
    "-- PctKids2Par: percentage of kids in family housing with two parents (numeric - decimal) \n",
    "-- PctTeen2Par: percent of kids age 12-17 in two parent households (numeric - decimal) \n",
    "-- PctYoungKids2Par: percent of kids 4 and under in two parent households (numeric - decimal) \n",
    " \n",
    " \n",
    " 1. Communities have high positive co-relation among Non violent crime and violent crime rate, i.e. the communities with high Violent crime will have high non violent crime too. \n",
    " 2. Communities with high percentage of families with two parents with kids or teens have a strong negative impact on violent crime. \n",
    " \n",
    " Using scatter matrix , we have visualized the result , we also added a regression line , which helps in quick interpretation of the co-relation. \n",
    " \n",
    "Insights: what kinds of insights did you get from the visualizations?\n",
    "\n",
    "From the visualization , we quickly got the insight of the negative corelation and impacts of families to the violence. "
   ]
  },
  {
   "cell_type": "markdown",
   "metadata": {},
   "source": [
    "# Add chart for  violent pair wise comparison , same as above"
   ]
  },
  {
   "cell_type": "code",
   "execution_count": null,
   "metadata": {},
   "outputs": [],
   "source": [
    "corr_matrix=corr_matrix.reindex(corr_matrix.ViolentCrimesPerPop.abs().sort_values(ascending=False).index)\n",
    "\n",
    "corr_matrix.ViolentCrimesPerPop[:5]\n",
    "\n",
    "#Most correlating factors for  violent crimes\n",
    "\n",
    "\n",
    "# Attributes of interest with\n",
    "cols = corr_matrix.ViolentCrimesPerPop[:5].index\n",
    "\n",
    "pp = sns.pairplot(cc[cols], \n",
    "                  size=1.8, aspect=1.2,                  \n",
    "                  diag_kws=dict(shade=True), # \"diag\" adjusts/tunes the diagonal plots\n",
    "                  diag_kind=\"kde\",\n",
    "                     kind=\"reg\") # use \"kde\" for diagonal plots\n",
    "\n",
    "fig = pp.fig \n",
    "fig.subplots_adjust(top=0.93, wspace=0.3)\n",
    "fig.suptitle('Top 5 high co-related attributes for Violent Crime Pairwise Plots', \n",
    "              fontsize=14, fontweight='bold')"
   ]
  },
  {
   "cell_type": "markdown",
   "metadata": {},
   "source": [
    "Results: what have you found? how do you visualize your results?\n",
    "\n",
    "-- ViolentCrimesPerPop: total number of violent crimes per 100K popuation (numeric - decimal) GOAL attribute (to be predicted) \n",
    " -- PctFam2Par: percentage of families (with kids) that are headed by two parents (numeric - decimal) \n",
    "-- PctKids2Par: percentage of kids in family housing with two parents (numeric - decimal) \n",
    "-- PctTeen2Par: percent of kids age 12-17 in two parent households (numeric - decimal) \n",
    "-- PctYoungKids2Par: percent of kids 4 and under in two parent households (numeric - decimal) \n",
    "\n",
    " \n",
    " \n",
    " 1. Communities have high positive co-relation among Non violent crime and violent crime rate.\n",
    " 2. Communities with high percentage of families with two parents with kids or teens have a strong negative impact on violent crime. \n",
    " 3. Communities with high percentage of Kids with never married parent have a high positive co-relation with violent crime.\n",
    " \n",
    " Using scatter matrix , we have visualized the result , we also added a regression line , which helps in quick interpretation of the co-relation. \n",
    " \n",
    "Insights: what kinds of insights did you get from the visualizations?\n",
    "\n",
    "From the visualization , we quickly got the insight of the negative corelation and impacts of families to the violence. Also percentage of kids born to never married parents has high corelation with violent crime.  "
   ]
  },
  {
   "cell_type": "markdown",
   "metadata": {},
   "source": [
    "**Finding top contributing factors for the non violent and violent crimes. To do this, remove the non violent crimes burglperpop, larcperpo, autotheftperpo, arsonsperpo, nonviolperpo and the violent crimes murderperpo, rapesperpop, robbperpop, assultperpop as they are the individual categories for the non violent and violent crimes we need to find the other factors contributing to the crimes**"
   ]
  },
  {
   "cell_type": "code",
   "execution_count": null,
   "metadata": {},
   "outputs": [],
   "source": [
    "cc_crimecat_removed = cc.drop(['burglPerPop', 'larcPerPop', 'autoTheftPerPop',  'arsonsPerPop', 'murdPerPop',\n",
    "                              'rapesPerPop', 'robbbPerPop', 'assaultPerPop'], axis=1)\n",
    "corr_matrix = cc_crimecat_removed.corr()"
   ]
  },
  {
   "cell_type": "code",
   "execution_count": null,
   "metadata": {},
   "outputs": [],
   "source": [
    "#Chart to show absolute magnitude of the top 10 co-related attributes with Violent and non violent crime per 100K population \n",
    "\n",
    "corr_matrix['sort'] = corr_matrix.ViolentCrimesPerPop.abs()\n",
    "top_10_corr_violent_crime = corr_matrix.sort_values('sort',ascending=False)['ViolentCrimesPerPop'][1:11]\n",
    "\n",
    "corr_matrix['sort'] = corr_matrix.nonViolPerPop.abs()\n",
    "top_10_corr_nonviolent_crime = corr_matrix.sort_values('sort',ascending=False)['nonViolPerPop'][1:11]\n",
    "\n",
    "\n",
    "df_violent = top_10_corr_violent_crime.to_frame().reset_index()\n",
    "\n",
    "top_10_corr_violent_crime_chart=alt.Chart(df_violent).mark_bar().encode(\n",
    "    x=alt.X('ViolentCrimesPerPop:Q'),  \n",
    "    y=alt.Y('index:N',sort=alt.SortField(field=\"ViolentCrimesPerPop\", op=\"distinct\", order='ascending'))   \n",
    ")\n",
    "\n",
    "\n",
    "\n",
    "top_10_corr_violent_crime_chart.encoding.x.title = 'Violent crime per 100K population correlation coefficient'\n",
    "top_10_corr_violent_crime_chart.encoding.y.title = 'Attributes'\n",
    "top_10_corr_violent_crime_chart.title='Top 10 correlated attributes with Violent Crime Per 100K population'\n",
    "\n",
    "\n",
    "df_nonviolent = top_10_corr_nonviolent_crime.to_frame().reset_index()\n",
    "\n",
    "top_10_corr_nonviolent_crime_chart=alt.Chart(df_nonviolent).mark_bar().encode(\n",
    "    x='nonViolPerPop:Q',  \n",
    "    y=alt.Y('index:N',sort=alt.SortField(field=\"nonViolPerPop\", op=\"distinct\", order='ascending'))   \n",
    ")\n",
    "\n",
    "top_10_corr_nonviolent_crime_chart.encoding.x.title = 'Non violent crime per 100K population correlation coefficient'\n",
    "top_10_corr_nonviolent_crime_chart.encoding.y.title = 'Attributes'\n",
    "top_10_corr_nonviolent_crime_chart.title='Top 10 correlated attributes with Non violent crime Per 100K population'\n",
    "\n",
    "\n",
    "top_10_corr_violent_crime_chart & top_10_corr_nonviolent_crime_chart\n",
    "\n"
   ]
  },
  {
   "cell_type": "markdown",
   "metadata": {},
   "source": [
    "Results: what have you found? how do you visualize your results?\n",
    "\n",
    "-- ViolentCrimesPerPop: total number of violent crimes per 100K popuation (numeric - decimal) GOAL attribute (to be predicted) \n",
    " -- PctFam2Par: percentage of families (with kids) that are headed by two parents (numeric - decimal) \n",
    "-- PctKids2Par: percentage of kids in family housing with two parents (numeric - decimal) \n",
    "-- PctTeen2Par: percent of kids age 12-17 in two parent households (numeric - decimal) \n",
    "-- PctYoungKids2Par: percent of kids 4 and under in two parent households (numeric - decimal) \n",
    "PctKidsBornNeverMar - percentage of kids born to never married parents\n",
    "-- racepctblack: percentage of population that is african american (numeric - decimal) \n",
    "-- racePctWhite: percentage of population that is caucasian (numeric - decimal) \n",
    "-- racePctAsian: percentage of population that is of asian heritage (numeric - decimal) \n",
    "-- racePctHisp: percentage of population that is of hispanic heritage (numeric - decimal) \n",
    "-- pctWPubAsst: percentage of households with public assistance income in 1989 (numeric - decimal) \n",
    "-- pctWInvInc: percentage of households with investment / rent income in 1989 (numeric - decimal) \n",
    "-- MalePctDivorce: percentage of males who are divorced (numeric - decimal) \n",
    "-- MalePctNevMarr: percentage of males who have never married (numeric - decimal) \n",
    "-- FemalePctDiv: percentage of females who are divorced (numeric - decimal) \n",
    "-- TotalPctDiv: percentage of population who are divorced (numeric - decimal) \n",
    "-- PctPopUnderPov: percentage of people under the poverty level (numeric - decimal) \n",
    "\n",
    " Violent Crime Tornado chart \n",
    " \n",
    " 1. Communities have high positive co-relation among violent crime rate and non violent , kids with never married parents, \n",
    " percentage of black population and percentage of households with public assistance income.\n",
    " \n",
    " 2. Communities with high percentage of families with two parents with kids or teens have a strong negative impact\n",
    " on violent crime. \n",
    " 3. Communities with high percentage of white race and households with investment income have strong negative impact on violent crime.\n",
    " \n",
    " Using tornado chart on the absolute value of co-relation help to get this information quickly.  \n",
    " \n",
    "Insights: what kinds of insights did you get from the visualizations?\n",
    "\n",
    "From the visualization , we got the quick comparative ordered study of all the factors impacting violent and non - violent crime.  "
   ]
  },
  {
   "cell_type": "code",
   "execution_count": null,
   "metadata": {},
   "outputs": [],
   "source": [
    "#Most correlating factors for non violent crimes\n",
    "corr_matrix=corr_matrix.reindex(corr_matrix.nonViolPerPop.abs().sort_values(ascending=False).index)\n",
    "\n",
    "corr_matrix.nonViolPerPop[:10]"
   ]
  },
  {
   "cell_type": "code",
   "execution_count": null,
   "metadata": {},
   "outputs": [],
   "source": [
    "#Most correlating factors for violent crimes\n",
    "corr_matrix['ViolentCrimesPerPop'].sort_values(ascending=False)"
   ]
  },
  {
   "cell_type": "markdown",
   "metadata": {},
   "source": [
    "**Choropleth map for non violent and violent crime rates at state level**"
   ]
  },
  {
   "cell_type": "code",
   "execution_count": null,
   "metadata": {},
   "outputs": [],
   "source": [
    "# Aggregated Non-Violent & Violent Crimes Per 100k Population at each State\n",
    "\n",
    "counties = alt.topo_feature(data.us_10m.url, 'counties')\n",
    "states = alt.topo_feature(data.us_10m.url, 'states')\n",
    "\n",
    "variable_list = ['nonViolPerPop', 'ViolentCrimesPerPop']\n",
    "\n",
    "# violent rate\n",
    "chart = alt.Chart(states).mark_geoshape().project(\n",
    "    type='albersUsa'\n",
    ").transform_lookup(\n",
    "    lookup='id',\n",
    "    from_=alt.LookupData(cc, 'st', variable_list)\n",
    ").encode(\n",
    "    alt.Color(alt.repeat('row'), type='quantitative')\n",
    ").properties(\n",
    "    title='Non-Violent & Violent Crimes Per 100k Population at each State',\n",
    "    width=400,\n",
    "    height=400\n",
    ").repeat(\n",
    "    row=variable_list\n",
    ").resolve_scale(\n",
    "    color='independent'\n",
    ")\n",
    "\n",
    "chart\n",
    "#chart1\n",
    "#chart1 & chart2"
   ]
  },
  {
   "cell_type": "code",
   "execution_count": null,
   "metadata": {},
   "outputs": [],
   "source": []
  },
  {
   "cell_type": "markdown",
   "metadata": {},
   "source": [
    "**Choropleth maps for the top 20 cities/communities with highest non violent and violent crime rates**"
   ]
  },
  {
   "cell_type": "markdown",
   "metadata": {},
   "source": [
    "**Explanation: ** For violent crimes, there are some cities like Chester, Atlanta, Newark, Alexandria and Miami are reported with high no. of violent crimes. For non-violent crimes, there are some cities like East Longmeadow, Atlantic, Myrtle Beach, Palatka and Miami Beach are reported with the highest no. of non-violent crimes.\n",
    "\n",
    "In terms of total no. of crimes (violent and non-violent), the top reported cities are Atlantic, East Longmeadow, Palatka, Dania and Miami.\n"
   ]
  },
  {
   "cell_type": "code",
   "execution_count": null,
   "metadata": {},
   "outputs": [],
   "source": [
    "top_20_cities_violent = cc.sort_values('ViolentCrimesPerPop',ascending=False).head(20)\n",
    "top_20_cities_Non_violent = cc.sort_values('nonViolPerPop',ascending=False).head(20)\n",
    "top_20_cities_total_crimes = cc.sort_values('Total Crimes',ascending=False).head(20)\n"
   ]
  },
  {
   "cell_type": "code",
   "execution_count": null,
   "metadata": {},
   "outputs": [],
   "source": [
    "#One Dot Per community for violent crimes\n",
    "violentChart = alt.Chart(top_20_cities_violent).mark_circle(size=4).encode(\n",
    "    longitude='City_Long:Q',\n",
    "    latitude='City_Lat:Q',\n",
    "    size='ViolentCrimesPerPop:Q',\n",
    "    color='CityNew:N',\n",
    "    #color='state:N',\n",
    "    tooltip='CityNew:N'\n",
    ").project(\n",
    "    type='albersUsa'\n",
    ").properties(\n",
    "    width=800,\n",
    "    height=500)\n",
    "\n",
    "# US states background\n",
    "background = alt.Chart(states).mark_geoshape(\n",
    "    fill='white',\n",
    "    stroke='black',\n",
    "    strokeWidth=0.5\n",
    ").properties(\n",
    "    title='Top 20 Cities with highest Violent Crime',\n",
    "    width=800,\n",
    "    height=500\n",
    ").project('albersUsa')\n",
    "\n",
    "background + violentChart"
   ]
  },
  {
   "cell_type": "code",
   "execution_count": null,
   "metadata": {},
   "outputs": [],
   "source": [
    "#One Dot Per community for non violent crimes\n",
    "violentChart = alt.Chart(top_20_cities_Non_violent).mark_circle(size=4).encode(\n",
    "    longitude='City_Long:Q',\n",
    "    latitude='City_Lat:Q',\n",
    "    size='nonViolPerPop:Q',\n",
    "    color='CityNew:N',\n",
    "    #color='state:N',\n",
    "    tooltip='CityNew:N'\n",
    ").project(\n",
    "    type='albersUsa'\n",
    ").properties(\n",
    "    width=800,\n",
    "    height=500)\n",
    "\n",
    "# US states background\n",
    "background = alt.Chart(states).mark_geoshape(\n",
    "    fill='white',\n",
    "    stroke='black',\n",
    "    strokeWidth=0.5\n",
    ").properties(\n",
    "    title='Top 20 Cities with highest Non Violent Crimes',\n",
    "    width=800,\n",
    "    height=500\n",
    ").project('albersUsa')\n",
    "\n",
    "background + violentChart"
   ]
  },
  {
   "cell_type": "markdown",
   "metadata": {},
   "source": [
    "**Choropleth maps for the top 20 cities/communities with highest non violent and violent crime rates**"
   ]
  },
  {
   "cell_type": "code",
   "execution_count": null,
   "metadata": {},
   "outputs": [],
   "source": [
    "#Choropleth maps for top 20 cities with highest total no. of  crimes\n",
    "violentChart = alt.Chart(top_20_cities_total_crimes).mark_circle(size=4).encode(\n",
    "    longitude='City_Long:Q',\n",
    "    latitude='City_Lat:Q',\n",
    "    size='Total Crimes:Q',\n",
    "    color='CityNew:N',\n",
    "    #color='state:N',\n",
    "    tooltip='CityNew:N'\n",
    ").project(\n",
    "    type='albersUsa'\n",
    ").properties(\n",
    "    width=800,\n",
    "    height=500)\n",
    "\n",
    "# US states background\n",
    "background = alt.Chart(states).mark_geoshape(\n",
    "    fill='white',\n",
    "    stroke='black',\n",
    "    strokeWidth=0.5\n",
    ").properties(\n",
    "    title='Top 20 Cities with highest total no. of (violent and non-voilent) Crimes ',\n",
    "    width=800,\n",
    "    height=500\n",
    ").project('albersUsa')\n",
    "\n",
    "background + violentChart"
   ]
  },
  {
   "cell_type": "markdown",
   "metadata": {},
   "source": [
    "**One Dot map for the all communities with non violent and violent crime rates**"
   ]
  },
  {
   "cell_type": "code",
   "execution_count": null,
   "metadata": {},
   "outputs": [],
   "source": [
    "#One Dot map for all communities with total no. of crimes\n",
    "import altair as alt\n",
    "\n",
    "alt.Chart(cc).mark_circle(size=4).encode(\n",
    "    longitude='City_Long:Q',\n",
    "    latitude='City_Lat:Q',\n",
    "    size='ViolentCrimesPerPop:Q',\n",
    "    color='ViolentCrimesPerPop:Q',\n",
    "    tooltip='CityNew:N'\n",
    ").project(\n",
    "    type='albersUsa'\n",
    ").properties(\n",
    "    title='all communities with  total no. of (violent and non-voilent) crimes ',\n",
    "    width=800,\n",
    "    height=500)"
   ]
  },
  {
   "cell_type": "code",
   "execution_count": null,
   "metadata": {},
   "outputs": [],
   "source": [
    "#Making word cloud for States based on the number of voilent and non voilent crime \n",
    "\n",
    "crimedata_state_violent = cc.groupby('stname').agg({'ViolentCrimesPerPop':'mean'})[['ViolentCrimesPerPop']].reset_index()\n",
    "crimedata_state_nonviolent = cc.groupby('stname').agg({'nonViolPerPop':'mean'})[['nonViolPerPop']].reset_index()\n",
    "crimedata_state_violent.dropna(inplace=True)\n",
    "crimedata_state_nonviolent.dropna(inplace=True)\n",
    "\n"
   ]
  },
  {
   "cell_type": "code",
   "execution_count": null,
   "metadata": {},
   "outputs": [],
   "source": [
    "state_avg_violent_crime={}\n",
    "for index,row in crimedata_state_violent.iterrows():   \n",
    "   state_avg_violent_crime[row['stname']]=int(row['ViolentCrimesPerPop']);\n",
    "\n",
    "state_avg_nonviolent_crime={}\n",
    "for index,row in crimedata_state_nonviolent.iterrows():   \n",
    "   state_avg_nonviolent_crime[row['stname']]=int(row['nonViolPerPop']);\n",
    "\n"
   ]
  },
  {
   "cell_type": "code",
   "execution_count": null,
   "metadata": {},
   "outputs": [],
   "source": [
    "bars = alt.Chart(crimedata_state_violent).mark_bar().encode(\n",
    "    x=alt.X('stname'),\n",
    "    y=alt.Y('ViolentCrimesPerPop')\n",
    ") \n",
    "\n",
    "bars.encoding.x.title = 'States'\n",
    "bars.encoding.y.title = 'Average violent crime (per 100K population)'\n",
    "bars.title='State and average violent crime (per 100K population)'\n",
    "bars\n"
   ]
  },
  {
   "cell_type": "code",
   "execution_count": null,
   "metadata": {},
   "outputs": [],
   "source": []
  },
  {
   "cell_type": "code",
   "execution_count": null,
   "metadata": {},
   "outputs": [],
   "source": [
    "import wordcloud\n",
    "wc_violent = wordcloud.WordCloud(width=1000, height=500)\n",
    "wc_violent.generate_from_frequencies(state_avg_violent_crime)\n",
    "\n",
    "wc_nonviolent = wordcloud.WordCloud(width=1000, height=500)\n",
    "wc_nonviolent.generate_from_frequencies(state_avg_nonviolent_crime)"
   ]
  },
  {
   "cell_type": "code",
   "execution_count": null,
   "metadata": {},
   "outputs": [],
   "source": [
    "plt.figure(figsize=(20,10))\n",
    "plt.imshow(wc_violent, interpolation=\"bilinear\")\n",
    "plt.axis(\"off\")\n",
    "plt.title(\"Word Cloud for State name based on average Violent Crime(per 100K population)\")"
   ]
  },
  {
   "cell_type": "markdown",
   "metadata": {},
   "source": [
    "Results: what have you found? how do you visualize your results?\n",
    "\n",
    "\n",
    "Word Cloud  \n",
    "\n",
    "Quick to find out the states with high and low violent crime. \n",
    "\n",
    "Insights: what kinds of insights did you get from the visualizations?\n"
   ]
  },
  {
   "cell_type": "code",
   "execution_count": null,
   "metadata": {},
   "outputs": [],
   "source": [
    "bars = alt.Chart(crimedata_state_nonviolent).mark_bar().encode(\n",
    "    x=alt.X('stname'),\n",
    "    y=alt.Y('nonViolPerPop' ),\n",
    "    order = 'nonViolPerPop'\n",
    ") \n",
    "\n",
    "\n",
    "bars.encoding.x.title = 'States'\n",
    "bars.encoding.y.title = 'Average non violent crime (per 100K population)'\n",
    "bars.title='State and average non violent crime (per 100K population)'\n",
    "\n",
    "bars\n"
   ]
  },
  {
   "cell_type": "code",
   "execution_count": null,
   "metadata": {},
   "outputs": [],
   "source": [
    "plt.figure(figsize=(20,10))\n",
    "plt.imshow(wc_nonviolent, interpolation=\"bilinear\")\n",
    "plt.axis(\"off\")\n",
    "\n",
    "plt.title(\"Word Cloud for State name based on average non violent Crime(per 100K population)\")"
   ]
  },
  {
   "cell_type": "code",
   "execution_count": null,
   "metadata": {},
   "outputs": [],
   "source": [
    "#State wise Violent crime \n",
    "\n",
    "cc_viol_cat = cc[['murdPerPop','rapesPerPop','robbbPerPop','assaultPerPop','ViolentCrimesPerPop', 'state']]\n",
    "cc_nonviol_cat = cc[['burglPerPop','larcPerPop','autoTheftPerPop','arsonsPerPop','nonViolPerPop', 'state']]\n",
    "\n",
    "cc_viol_cat_by_st = (cc_viol_cat.groupby('state').agg('mean')).sort_values('ViolentCrimesPerPop', ascending=False)\n",
    "cc_nonviol_cat_by_st = (cc_nonviol_cat.groupby('state').agg('mean')).sort_values('nonViolPerPop', ascending=False)\n",
    "\n",
    "\n",
    "cc_viol_cat_by_st10 = cc_viol_cat_by_st[:5].reset_index()\n",
    "cc_nonviol_cat_by_st10 = cc_nonviol_cat_by_st[:5].reset_index()\n",
    "\n",
    "\n",
    "cc_viol_cat_by_st_tidy = pd.melt( cc_viol_cat_by_st10, id_vars=['state','ViolentCrimesPerPop'], value_vars=['murdPerPop', 'rapesPerPop', \n",
    "                                                                                        'robbbPerPop', 'assaultPerPop'],\n",
    "                                 var_name='violCrimeCat', value_name='Violent crime')\n",
    "\n",
    "\n",
    "cc_nonviol_cat_by_st_tidy = pd.melt( cc_nonviol_cat_by_st10, id_vars=['state','nonViolPerPop'], value_vars=['burglPerPop','larcPerPop',\n",
    "                                                                                              'autoTheftPerPop','arsonsPerPop'],\n",
    "                                 var_name='nonviolCrimeCat', value_name='Non violent crime')\n",
    "\n",
    "\n",
    "\n",
    "\n",
    "violent_category_stack_chart = alt.Chart(cc_viol_cat_by_st_tidy).mark_bar().encode(\n",
    "    alt.X('state:O', axis=alt.Axis(labelAngle=0)),\n",
    "    alt.Y('Violent crime:Q'),\n",
    "    order='ViolentCrimesPerPop:Q',\n",
    "    color='violCrimeCat'\n",
    ").properties(\n",
    "    width=400,\n",
    "    height=350\n",
    ")\n",
    "\n",
    "violent_category_stack_chart.title = \"Violent crime category stacked chart for top 5 states\"\n",
    "\n",
    "violent_category_stack_chart"
   ]
  },
  {
   "cell_type": "code",
   "execution_count": null,
   "metadata": {},
   "outputs": [],
   "source": [
    "cc_viol_cat_by_st_tidy"
   ]
  },
  {
   "cell_type": "code",
   "execution_count": null,
   "metadata": {},
   "outputs": [],
   "source": [
    "\n",
    "\n",
    "non_violent_category_stack_chart = alt.Chart(cc_nonviol_cat_by_st_tidy).mark_bar().encode(\n",
    "    alt.X('state:O', axis=alt.Axis(labelAngle=0) ),\n",
    "    alt.Y('Non violent crime:Q'),    \n",
    "    color='nonviolCrimeCat',\n",
    "    order='nonViolPerPop:Q'\n",
    ").properties(\n",
    "    width=400,\n",
    "    height=350\n",
    ")\n",
    "\n",
    "non_violent_category_stack_chart.title = \"Non violent crime category stacked chart for top 5 states\"\n",
    "\n",
    "non_violent_category_stack_chart\n",
    "\n"
   ]
  },
  {
   "cell_type": "code",
   "execution_count": null,
   "metadata": {},
   "outputs": [],
   "source": [
    "#Parallel co-ordinate for 5 states for violent crime 10 high co-related attributes \n",
    "\n",
    "\n",
    "cc_top10st = cc[cc.state.isin(['DC', 'DE', 'FL', 'GA', 'IA'])]\n",
    "\n",
    "cc_viol_cor = cc_top10st[['state', 'PctKidsBornNeverMar','racepctblack','pctWPubAsst','TotalPctDiv','FemalePctDiv', \n",
    "                          'MalePctDivorce', 'PctPopUnderPov', 'PctUnemployed', 'PctVacantBoarded', 'PctHousNoPhone', \n",
    "                          'PctNotHSGrad', 'PctHousLess3BR']]\n",
    "\n",
    "cc_nonviol_cor = cc_top10st[['state', 'PctKidsBornNeverMar','racepctblack','pctWPubAsst','TotalPctDiv','FemalePctDiv', \n",
    "                          'MalePctDivorce', 'PctPopUnderPov', 'PctUnemployed', 'PctVacantBoarded', 'PctHousNoPhone', \n",
    "                          'PctNotHSGrad', 'PctHousLess3BR']]\n",
    "\n",
    "#cc_viol_cor\n",
    "\n",
    "cc_viol_cor_by_st_tidy = pd.melt( cc_viol_cor, id_vars=[('state')], value_vars=['PctKidsBornNeverMar','racepctblack',\n",
    "                                                                                'pctWPubAsst','TotalPctDiv', 'FemalePctDiv', \n",
    "                                                                                'MalePctDivorce', 'PctPopUnderPov', \n",
    "                                                                                'PctUnemployed', 'PctVacantBoarded',\n",
    "                                                                                'PctHousNoPhone', 'PctNotHSGrad',\n",
    "                                                                                'PctHousLess3BR'],\n",
    "                                 var_name='violCrimeCor', value_name='violcrimeRate')\n",
    "\n",
    "cc_nonviol_cor_by_st_tidy = pd.melt( cc_nonviol_cor, id_vars=[('state')], value_vars=['PctKidsBornNeverMar','racepctblack',\n",
    "                                                                                'pctWPubAsst','TotalPctDiv', 'FemalePctDiv', \n",
    "                                                                                'MalePctDivorce', 'PctPopUnderPov', \n",
    "                                                                                'PctUnemployed', 'PctVacantBoarded',\n",
    "                                                                                'PctHousNoPhone', 'PctNotHSGrad',\n",
    "                                                                                'PctHousLess3BR'],\n",
    "                                 var_name='nonviolCrimeCor', value_name='nonviolcrimeRate')\n",
    "\n",
    "\n",
    "\n",
    "top_5_state_non_violent_high_co_related = alt.Chart(cc_nonviol_cor_by_st_tidy).mark_line().encode(\n",
    "    x='nonviolCrimeCor:N',\n",
    "    y='nonviolcrimeRate:Q',\n",
    "    color='state:N',\n",
    "    detail='state:N'#,\n",
    "    #opacity=alt.value(0.5)\n",
    ").properties(width=850,height=600)\n",
    "\n",
    "top_5_state_non_violent_high_co_related.title = \"Parallel co-ordinate for 5 states for non violent crime 10 high co-related attributes\"\n",
    "\n",
    "top_5_state_non_violent_high_co_related"
   ]
  },
  {
   "cell_type": "code",
   "execution_count": null,
   "metadata": {},
   "outputs": [],
   "source": [
    "\n",
    "top_5_state_violent_high_co_related = alt.Chart(cc_viol_cor_by_st_tidy).mark_line().encode(\n",
    "    x='violCrimeCor:N',\n",
    "    y='violcrimeRate:Q',\n",
    "    color='state:N',\n",
    "    detail='state:N'#,\n",
    "    #opacity=alt.value(0.5)\n",
    ").properties(width=850,height=600)\n",
    "\n",
    "top_5_state_violent_high_co_related.title = \"Parallel co-ordinate for 5 states for violent crime 10 high co-related attributes\"\n",
    "\n",
    "top_5_state_violent_high_co_related"
   ]
  },
  {
   "cell_type": "code",
   "execution_count": null,
   "metadata": {},
   "outputs": [],
   "source": []
  }
 ],
 "metadata": {
  "kernelspec": {
   "display_name": "Python 3",
   "language": "python",
   "name": "python3"
  },
  "toc": {
   "nav_menu": {},
   "number_sections": true,
   "sideBar": true,
   "skip_h1_title": true,
   "title_cell": "Table of Contents",
   "title_sidebar": "Contents",
   "toc_cell": true,
   "toc_position": {},
   "toc_section_display": true,
   "toc_window_display": true
  }
 },
 "nbformat": 4,
 "nbformat_minor": 2
}
